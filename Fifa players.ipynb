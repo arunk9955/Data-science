{
 "cells": [
  {
   "cell_type": "code",
   "execution_count": 1,
   "id": "3831cfdd-ec28-4fef-a470-84a72a1ef1de",
   "metadata": {},
   "outputs": [],
   "source": [
    "import numpy as np\n",
    "import pandas as pd\n",
    "import matplotlib.pyplot as plt\n",
    "import seaborn as sns"
   ]
  },
  {
   "cell_type": "code",
   "execution_count": 15,
   "id": "e58da7b3-3ebd-4898-94c1-14d22724b74f",
   "metadata": {},
   "outputs": [],
   "source": [
    "df=pd.read_csv(\"C:\\\\Users\\\\arunk\\\\Downloads\\\\fifa_data.csv\")"
   ]
  },
  {
   "cell_type": "code",
   "execution_count": 17,
   "id": "a981efb8-7e47-49be-b3ed-f909a39cb1ee",
   "metadata": {},
   "outputs": [
    {
     "data": {
      "text/html": [
       "<div>\n",
       "<style scoped>\n",
       "    .dataframe tbody tr th:only-of-type {\n",
       "        vertical-align: middle;\n",
       "    }\n",
       "\n",
       "    .dataframe tbody tr th {\n",
       "        vertical-align: top;\n",
       "    }\n",
       "\n",
       "    .dataframe thead th {\n",
       "        text-align: right;\n",
       "    }\n",
       "</style>\n",
       "<table border=\"1\" class=\"dataframe\">\n",
       "  <thead>\n",
       "    <tr style=\"text-align: right;\">\n",
       "      <th></th>\n",
       "      <th>Unnamed: 0</th>\n",
       "      <th>ID</th>\n",
       "      <th>Name</th>\n",
       "      <th>Age</th>\n",
       "      <th>Photo</th>\n",
       "      <th>Nationality</th>\n",
       "      <th>Flag</th>\n",
       "      <th>Overall</th>\n",
       "      <th>Potential</th>\n",
       "      <th>Club</th>\n",
       "      <th>...</th>\n",
       "      <th>Composure</th>\n",
       "      <th>Marking</th>\n",
       "      <th>StandingTackle</th>\n",
       "      <th>SlidingTackle</th>\n",
       "      <th>GKDiving</th>\n",
       "      <th>GKHandling</th>\n",
       "      <th>GKKicking</th>\n",
       "      <th>GKPositioning</th>\n",
       "      <th>GKReflexes</th>\n",
       "      <th>Release Clause</th>\n",
       "    </tr>\n",
       "  </thead>\n",
       "  <tbody>\n",
       "    <tr>\n",
       "      <th>0</th>\n",
       "      <td>0</td>\n",
       "      <td>158023</td>\n",
       "      <td>L. Messi</td>\n",
       "      <td>31</td>\n",
       "      <td>https://cdn.sofifa.org/players/4/19/158023.png</td>\n",
       "      <td>Argentina</td>\n",
       "      <td>https://cdn.sofifa.org/flags/52.png</td>\n",
       "      <td>94</td>\n",
       "      <td>94</td>\n",
       "      <td>FC Barcelona</td>\n",
       "      <td>...</td>\n",
       "      <td>96.0</td>\n",
       "      <td>33.0</td>\n",
       "      <td>28.0</td>\n",
       "      <td>26.0</td>\n",
       "      <td>6.0</td>\n",
       "      <td>11.0</td>\n",
       "      <td>15.0</td>\n",
       "      <td>14.0</td>\n",
       "      <td>8.0</td>\n",
       "      <td>€226.5M</td>\n",
       "    </tr>\n",
       "    <tr>\n",
       "      <th>1</th>\n",
       "      <td>1</td>\n",
       "      <td>20801</td>\n",
       "      <td>Cristiano Ronaldo</td>\n",
       "      <td>33</td>\n",
       "      <td>https://cdn.sofifa.org/players/4/19/20801.png</td>\n",
       "      <td>Portugal</td>\n",
       "      <td>https://cdn.sofifa.org/flags/38.png</td>\n",
       "      <td>94</td>\n",
       "      <td>94</td>\n",
       "      <td>Juventus</td>\n",
       "      <td>...</td>\n",
       "      <td>95.0</td>\n",
       "      <td>28.0</td>\n",
       "      <td>31.0</td>\n",
       "      <td>23.0</td>\n",
       "      <td>7.0</td>\n",
       "      <td>11.0</td>\n",
       "      <td>15.0</td>\n",
       "      <td>14.0</td>\n",
       "      <td>11.0</td>\n",
       "      <td>€127.1M</td>\n",
       "    </tr>\n",
       "    <tr>\n",
       "      <th>2</th>\n",
       "      <td>2</td>\n",
       "      <td>190871</td>\n",
       "      <td>Neymar Jr</td>\n",
       "      <td>26</td>\n",
       "      <td>https://cdn.sofifa.org/players/4/19/190871.png</td>\n",
       "      <td>Brazil</td>\n",
       "      <td>https://cdn.sofifa.org/flags/54.png</td>\n",
       "      <td>92</td>\n",
       "      <td>93</td>\n",
       "      <td>Paris Saint-Germain</td>\n",
       "      <td>...</td>\n",
       "      <td>94.0</td>\n",
       "      <td>27.0</td>\n",
       "      <td>24.0</td>\n",
       "      <td>33.0</td>\n",
       "      <td>9.0</td>\n",
       "      <td>9.0</td>\n",
       "      <td>15.0</td>\n",
       "      <td>15.0</td>\n",
       "      <td>11.0</td>\n",
       "      <td>€228.1M</td>\n",
       "    </tr>\n",
       "    <tr>\n",
       "      <th>3</th>\n",
       "      <td>3</td>\n",
       "      <td>193080</td>\n",
       "      <td>De Gea</td>\n",
       "      <td>27</td>\n",
       "      <td>https://cdn.sofifa.org/players/4/19/193080.png</td>\n",
       "      <td>Spain</td>\n",
       "      <td>https://cdn.sofifa.org/flags/45.png</td>\n",
       "      <td>91</td>\n",
       "      <td>93</td>\n",
       "      <td>Manchester United</td>\n",
       "      <td>...</td>\n",
       "      <td>68.0</td>\n",
       "      <td>15.0</td>\n",
       "      <td>21.0</td>\n",
       "      <td>13.0</td>\n",
       "      <td>90.0</td>\n",
       "      <td>85.0</td>\n",
       "      <td>87.0</td>\n",
       "      <td>88.0</td>\n",
       "      <td>94.0</td>\n",
       "      <td>€138.6M</td>\n",
       "    </tr>\n",
       "    <tr>\n",
       "      <th>4</th>\n",
       "      <td>4</td>\n",
       "      <td>192985</td>\n",
       "      <td>K. De Bruyne</td>\n",
       "      <td>27</td>\n",
       "      <td>https://cdn.sofifa.org/players/4/19/192985.png</td>\n",
       "      <td>Belgium</td>\n",
       "      <td>https://cdn.sofifa.org/flags/7.png</td>\n",
       "      <td>91</td>\n",
       "      <td>92</td>\n",
       "      <td>Manchester City</td>\n",
       "      <td>...</td>\n",
       "      <td>88.0</td>\n",
       "      <td>68.0</td>\n",
       "      <td>58.0</td>\n",
       "      <td>51.0</td>\n",
       "      <td>15.0</td>\n",
       "      <td>13.0</td>\n",
       "      <td>5.0</td>\n",
       "      <td>10.0</td>\n",
       "      <td>13.0</td>\n",
       "      <td>€196.4M</td>\n",
       "    </tr>\n",
       "    <tr>\n",
       "      <th>...</th>\n",
       "      <td>...</td>\n",
       "      <td>...</td>\n",
       "      <td>...</td>\n",
       "      <td>...</td>\n",
       "      <td>...</td>\n",
       "      <td>...</td>\n",
       "      <td>...</td>\n",
       "      <td>...</td>\n",
       "      <td>...</td>\n",
       "      <td>...</td>\n",
       "      <td>...</td>\n",
       "      <td>...</td>\n",
       "      <td>...</td>\n",
       "      <td>...</td>\n",
       "      <td>...</td>\n",
       "      <td>...</td>\n",
       "      <td>...</td>\n",
       "      <td>...</td>\n",
       "      <td>...</td>\n",
       "      <td>...</td>\n",
       "      <td>...</td>\n",
       "    </tr>\n",
       "    <tr>\n",
       "      <th>18202</th>\n",
       "      <td>18202</td>\n",
       "      <td>238813</td>\n",
       "      <td>J. Lundstram</td>\n",
       "      <td>19</td>\n",
       "      <td>https://cdn.sofifa.org/players/4/19/238813.png</td>\n",
       "      <td>England</td>\n",
       "      <td>https://cdn.sofifa.org/flags/14.png</td>\n",
       "      <td>47</td>\n",
       "      <td>65</td>\n",
       "      <td>Crewe Alexandra</td>\n",
       "      <td>...</td>\n",
       "      <td>45.0</td>\n",
       "      <td>40.0</td>\n",
       "      <td>48.0</td>\n",
       "      <td>47.0</td>\n",
       "      <td>10.0</td>\n",
       "      <td>13.0</td>\n",
       "      <td>7.0</td>\n",
       "      <td>8.0</td>\n",
       "      <td>9.0</td>\n",
       "      <td>€143K</td>\n",
       "    </tr>\n",
       "    <tr>\n",
       "      <th>18203</th>\n",
       "      <td>18203</td>\n",
       "      <td>243165</td>\n",
       "      <td>N. Christoffersson</td>\n",
       "      <td>19</td>\n",
       "      <td>https://cdn.sofifa.org/players/4/19/243165.png</td>\n",
       "      <td>Sweden</td>\n",
       "      <td>https://cdn.sofifa.org/flags/46.png</td>\n",
       "      <td>47</td>\n",
       "      <td>63</td>\n",
       "      <td>Trelleborgs FF</td>\n",
       "      <td>...</td>\n",
       "      <td>42.0</td>\n",
       "      <td>22.0</td>\n",
       "      <td>15.0</td>\n",
       "      <td>19.0</td>\n",
       "      <td>10.0</td>\n",
       "      <td>9.0</td>\n",
       "      <td>9.0</td>\n",
       "      <td>5.0</td>\n",
       "      <td>12.0</td>\n",
       "      <td>€113K</td>\n",
       "    </tr>\n",
       "    <tr>\n",
       "      <th>18204</th>\n",
       "      <td>18204</td>\n",
       "      <td>241638</td>\n",
       "      <td>B. Worman</td>\n",
       "      <td>16</td>\n",
       "      <td>https://cdn.sofifa.org/players/4/19/241638.png</td>\n",
       "      <td>England</td>\n",
       "      <td>https://cdn.sofifa.org/flags/14.png</td>\n",
       "      <td>47</td>\n",
       "      <td>67</td>\n",
       "      <td>Cambridge United</td>\n",
       "      <td>...</td>\n",
       "      <td>41.0</td>\n",
       "      <td>32.0</td>\n",
       "      <td>13.0</td>\n",
       "      <td>11.0</td>\n",
       "      <td>6.0</td>\n",
       "      <td>5.0</td>\n",
       "      <td>10.0</td>\n",
       "      <td>6.0</td>\n",
       "      <td>13.0</td>\n",
       "      <td>€165K</td>\n",
       "    </tr>\n",
       "    <tr>\n",
       "      <th>18205</th>\n",
       "      <td>18205</td>\n",
       "      <td>246268</td>\n",
       "      <td>D. Walker-Rice</td>\n",
       "      <td>17</td>\n",
       "      <td>https://cdn.sofifa.org/players/4/19/246268.png</td>\n",
       "      <td>England</td>\n",
       "      <td>https://cdn.sofifa.org/flags/14.png</td>\n",
       "      <td>47</td>\n",
       "      <td>66</td>\n",
       "      <td>Tranmere Rovers</td>\n",
       "      <td>...</td>\n",
       "      <td>46.0</td>\n",
       "      <td>20.0</td>\n",
       "      <td>25.0</td>\n",
       "      <td>27.0</td>\n",
       "      <td>14.0</td>\n",
       "      <td>6.0</td>\n",
       "      <td>14.0</td>\n",
       "      <td>8.0</td>\n",
       "      <td>9.0</td>\n",
       "      <td>€143K</td>\n",
       "    </tr>\n",
       "    <tr>\n",
       "      <th>18206</th>\n",
       "      <td>18206</td>\n",
       "      <td>246269</td>\n",
       "      <td>G. Nugent</td>\n",
       "      <td>16</td>\n",
       "      <td>https://cdn.sofifa.org/players/4/19/246269.png</td>\n",
       "      <td>England</td>\n",
       "      <td>https://cdn.sofifa.org/flags/14.png</td>\n",
       "      <td>46</td>\n",
       "      <td>66</td>\n",
       "      <td>Tranmere Rovers</td>\n",
       "      <td>...</td>\n",
       "      <td>43.0</td>\n",
       "      <td>40.0</td>\n",
       "      <td>43.0</td>\n",
       "      <td>50.0</td>\n",
       "      <td>10.0</td>\n",
       "      <td>15.0</td>\n",
       "      <td>9.0</td>\n",
       "      <td>12.0</td>\n",
       "      <td>9.0</td>\n",
       "      <td>€165K</td>\n",
       "    </tr>\n",
       "  </tbody>\n",
       "</table>\n",
       "<p>18207 rows × 89 columns</p>\n",
       "</div>"
      ],
      "text/plain": [
       "       Unnamed: 0      ID                Name  Age  \\\n",
       "0               0  158023            L. Messi   31   \n",
       "1               1   20801   Cristiano Ronaldo   33   \n",
       "2               2  190871           Neymar Jr   26   \n",
       "3               3  193080              De Gea   27   \n",
       "4               4  192985        K. De Bruyne   27   \n",
       "...           ...     ...                 ...  ...   \n",
       "18202       18202  238813        J. Lundstram   19   \n",
       "18203       18203  243165  N. Christoffersson   19   \n",
       "18204       18204  241638           B. Worman   16   \n",
       "18205       18205  246268      D. Walker-Rice   17   \n",
       "18206       18206  246269           G. Nugent   16   \n",
       "\n",
       "                                                Photo Nationality  \\\n",
       "0      https://cdn.sofifa.org/players/4/19/158023.png   Argentina   \n",
       "1       https://cdn.sofifa.org/players/4/19/20801.png    Portugal   \n",
       "2      https://cdn.sofifa.org/players/4/19/190871.png      Brazil   \n",
       "3      https://cdn.sofifa.org/players/4/19/193080.png       Spain   \n",
       "4      https://cdn.sofifa.org/players/4/19/192985.png     Belgium   \n",
       "...                                               ...         ...   \n",
       "18202  https://cdn.sofifa.org/players/4/19/238813.png     England   \n",
       "18203  https://cdn.sofifa.org/players/4/19/243165.png      Sweden   \n",
       "18204  https://cdn.sofifa.org/players/4/19/241638.png     England   \n",
       "18205  https://cdn.sofifa.org/players/4/19/246268.png     England   \n",
       "18206  https://cdn.sofifa.org/players/4/19/246269.png     England   \n",
       "\n",
       "                                      Flag  Overall  Potential  \\\n",
       "0      https://cdn.sofifa.org/flags/52.png       94         94   \n",
       "1      https://cdn.sofifa.org/flags/38.png       94         94   \n",
       "2      https://cdn.sofifa.org/flags/54.png       92         93   \n",
       "3      https://cdn.sofifa.org/flags/45.png       91         93   \n",
       "4       https://cdn.sofifa.org/flags/7.png       91         92   \n",
       "...                                    ...      ...        ...   \n",
       "18202  https://cdn.sofifa.org/flags/14.png       47         65   \n",
       "18203  https://cdn.sofifa.org/flags/46.png       47         63   \n",
       "18204  https://cdn.sofifa.org/flags/14.png       47         67   \n",
       "18205  https://cdn.sofifa.org/flags/14.png       47         66   \n",
       "18206  https://cdn.sofifa.org/flags/14.png       46         66   \n",
       "\n",
       "                      Club  ... Composure Marking StandingTackle  \\\n",
       "0             FC Barcelona  ...      96.0    33.0           28.0   \n",
       "1                 Juventus  ...      95.0    28.0           31.0   \n",
       "2      Paris Saint-Germain  ...      94.0    27.0           24.0   \n",
       "3        Manchester United  ...      68.0    15.0           21.0   \n",
       "4          Manchester City  ...      88.0    68.0           58.0   \n",
       "...                    ...  ...       ...     ...            ...   \n",
       "18202      Crewe Alexandra  ...      45.0    40.0           48.0   \n",
       "18203       Trelleborgs FF  ...      42.0    22.0           15.0   \n",
       "18204     Cambridge United  ...      41.0    32.0           13.0   \n",
       "18205      Tranmere Rovers  ...      46.0    20.0           25.0   \n",
       "18206      Tranmere Rovers  ...      43.0    40.0           43.0   \n",
       "\n",
       "       SlidingTackle GKDiving  GKHandling  GKKicking  GKPositioning  \\\n",
       "0               26.0      6.0        11.0       15.0           14.0   \n",
       "1               23.0      7.0        11.0       15.0           14.0   \n",
       "2               33.0      9.0         9.0       15.0           15.0   \n",
       "3               13.0     90.0        85.0       87.0           88.0   \n",
       "4               51.0     15.0        13.0        5.0           10.0   \n",
       "...              ...      ...         ...        ...            ...   \n",
       "18202           47.0     10.0        13.0        7.0            8.0   \n",
       "18203           19.0     10.0         9.0        9.0            5.0   \n",
       "18204           11.0      6.0         5.0       10.0            6.0   \n",
       "18205           27.0     14.0         6.0       14.0            8.0   \n",
       "18206           50.0     10.0        15.0        9.0           12.0   \n",
       "\n",
       "      GKReflexes Release Clause  \n",
       "0            8.0        €226.5M  \n",
       "1           11.0        €127.1M  \n",
       "2           11.0        €228.1M  \n",
       "3           94.0        €138.6M  \n",
       "4           13.0        €196.4M  \n",
       "...          ...            ...  \n",
       "18202        9.0          €143K  \n",
       "18203       12.0          €113K  \n",
       "18204       13.0          €165K  \n",
       "18205        9.0          €143K  \n",
       "18206        9.0          €165K  \n",
       "\n",
       "[18207 rows x 89 columns]"
      ]
     },
     "execution_count": 17,
     "metadata": {},
     "output_type": "execute_result"
    }
   ],
   "source": [
    "df"
   ]
  },
  {
   "cell_type": "code",
   "execution_count": 19,
   "id": "c115939f-6faa-4c2d-adaa-7c62c91d0922",
   "metadata": {},
   "outputs": [
    {
     "data": {
      "text/plain": [
       "Nationality\n",
       "England                 1662\n",
       "Germany                 1198\n",
       "Spain                   1072\n",
       "Argentina                937\n",
       "France                   914\n",
       "                        ... \n",
       "New Caledonia              1\n",
       "Fiji                       1\n",
       "São Tomé & Príncipe        1\n",
       "United Arab Emirates       1\n",
       "Botswana                   1\n",
       "Name: count, Length: 164, dtype: int64"
      ]
     },
     "execution_count": 19,
     "metadata": {},
     "output_type": "execute_result"
    }
   ],
   "source": [
    "#1.Which country has the most number of players\n",
    "df['Nationality'].value_counts()"
   ]
  },
  {
   "cell_type": "markdown",
   "id": "d7a7c00d-0ff5-453d-8f38-66488d78b469",
   "metadata": {},
   "source": [
    "### ENGLAND has the most number of players."
   ]
  },
  {
   "cell_type": "code",
   "execution_count": 41,
   "id": "5e738259-41d0-442e-89f8-e758cc43e12b",
   "metadata": {},
   "outputs": [
    {
     "data": {
      "image/png": "[encoded data removed]",
      "text/plain": [
       "<Figure size 640x480 with 1 Axes>"
      ]
     },
     "metadata": {},
     "output_type": "display_data"
    }
   ],
   "source": [
    "#2.Plot a bar chart of 5 top countries with the most number of players.\n",
    "TF=df['Nationality'].value_counts().head(5)\n",
    "plt.bar(TF.index,TF.values)\n",
    "plt.title('Top 5 Countries with most no of players')\n",
    "plt.xlabel('Country')\n",
    "plt.ylabel('No of players')\n",
    "plt.show()"
   ]
  },
  {
   "cell_type": "markdown",
   "id": "ab23008c-2c6e-4fee-9e79-c1d23d02431f",
   "metadata": {},
   "source": [
    "## Countries like england, germany,spain,argentina,france have most no of players.They are the top 5 countries in the world when it comes to football"
   ]
  },
  {
   "cell_type": "code",
   "execution_count": 45,
   "id": "13234d8e-b9ed-4636-b654-b9a3a2c38cbc",
   "metadata": {},
   "outputs": [
    {
     "data": {
      "text/plain": [
       "'F. Marchetti'"
      ]
     },
     "execution_count": 45,
     "metadata": {},
     "output_type": "execute_result"
    }
   ],
   "source": [
    "#3.Which player has the highest salary?\n",
    "HS=df.loc[df['Wage'].idxmax()]['Name']\n",
    "HS"
   ]
  },
  {
   "cell_type": "markdown",
   "id": "826d0b00-fc3e-488f-90d5-228117eca413",
   "metadata": {},
   "source": [
    "## F Marchetti is the player having highest salary"
   ]
  },
  {
   "cell_type": "code",
   "execution_count": 62,
   "id": "22e276e9-905d-474e-b670-317cd25bcb2c",
   "metadata": {},
   "outputs": [
    {
     "data": {
      "image/png": "[encoded data removed]",
      "text/plain": [
       "<Figure size 640x480 with 1 Axes>"
      ]
     },
     "metadata": {},
     "output_type": "display_data"
    }
   ],
   "source": [
    "#4.Plot a histogram to get the salary range of the players.\n",
    "plt.hist(df['Wage'],color='r') \n",
    "plt.title('salary range of players')\n",
    "plt.xlabel('player')\n",
    "plt.ylabel('salary')\n",
    "plt.show()"
   ]
  },
  {
   "cell_type": "markdown",
   "id": "7f7da335-90b8-4ca7-a652-f734ef076fc4",
   "metadata": {},
   "source": [
    "## There is a huge salary difference between avarage players and top players "
   ]
  },
  {
   "cell_type": "code",
   "execution_count": 72,
   "id": "a44dfcc5-ae61-4aa1-9323-78eeda6971d4",
   "metadata": {},
   "outputs": [
    {
     "data": {
      "text/html": [
       "<div>\n",
       "<style scoped>\n",
       "    .dataframe tbody tr th:only-of-type {\n",
       "        vertical-align: middle;\n",
       "    }\n",
       "\n",
       "    .dataframe tbody tr th {\n",
       "        vertical-align: top;\n",
       "    }\n",
       "\n",
       "    .dataframe thead th {\n",
       "        text-align: right;\n",
       "    }\n",
       "</style>\n",
       "<table border=\"1\" class=\"dataframe\">\n",
       "  <thead>\n",
       "    <tr style=\"text-align: right;\">\n",
       "      <th></th>\n",
       "      <th>Name</th>\n",
       "      <th>Height</th>\n",
       "    </tr>\n",
       "  </thead>\n",
       "  <tbody>\n",
       "    <tr>\n",
       "      <th>11614</th>\n",
       "      <td>T. Holý</td>\n",
       "      <td>6'9</td>\n",
       "    </tr>\n",
       "    <tr>\n",
       "      <th>17927</th>\n",
       "      <td>D. Hodzic</td>\n",
       "      <td>6'9</td>\n",
       "    </tr>\n",
       "  </tbody>\n",
       "</table>\n",
       "</div>"
      ],
      "text/plain": [
       "            Name Height\n",
       "11614    T. Holý    6'9\n",
       "17927  D. Hodzic    6'9"
      ]
     },
     "execution_count": 72,
     "metadata": {},
     "output_type": "execute_result"
    }
   ],
   "source": [
    "#5.Who is the tallest player in the fifa?\n",
    "TP=df.sort_values(by=['Height'],ascending=False)\n",
    "TP[['Name','Height']].head(2)"
   ]
  },
  {
   "cell_type": "markdown",
   "id": "47c35df5-d903-452e-ae5a-d1ee2fbcf850",
   "metadata": {},
   "source": [
    "## There are two players with height 6'9(tallest)"
   ]
  },
  {
   "cell_type": "code",
   "execution_count": 70,
   "id": "e78910e5-e804-4595-9c03-29e992588502",
   "metadata": {},
   "outputs": [
    {
     "data": {
      "text/plain": [
       "Club\n",
       "FC Barcelona                 33\n",
       "Valencia CF                  33\n",
       "Fortuna Düsseldorf           33\n",
       "Cardiff City                 33\n",
       "Rayo Vallecano               33\n",
       "                             ..\n",
       "América FC (Minas Gerais)    20\n",
       "Fluminense                   20\n",
       "Sligo Rovers                 19\n",
       "Limerick FC                  19\n",
       "Derry City                   18\n",
       "Name: count, Length: 651, dtype: int64"
      ]
     },
     "execution_count": 70,
     "metadata": {},
     "output_type": "execute_result"
    }
   ],
   "source": [
    "#6.Which club has the most number of players? \n",
    "df['Club'].value_counts()"
   ]
  },
  {
   "cell_type": "markdown",
   "id": "5020d9d7-49fe-4519-828f-b83d85604686",
   "metadata": {},
   "source": [
    "## There are 5 clubs with most no of players and they all have 33 players"
   ]
  },
  {
   "cell_type": "code",
   "execution_count": 74,
   "id": "5bbef405-518b-497f-87c0-cd44d24a6e93",
   "metadata": {},
   "outputs": [
    {
     "data": {
      "text/plain": [
       "Preferred Foot\n",
       "Right    13948\n",
       "Left      4211\n",
       "Name: count, dtype: int64"
      ]
     },
     "execution_count": 74,
     "metadata": {},
     "output_type": "execute_result"
    }
   ],
   "source": [
    "#7.Which foot is most preferred by the players?Draw a bar chart for preferred foot\n",
    "PF=df['Preferred Foot'].value_counts()\n",
    "PF"
   ]
  },
  {
   "cell_type": "markdown",
   "id": "d8e47488-6fea-46bf-8cfa-9dbd1897530b",
   "metadata": {},
   "source": [
    "## Most of the players are right footers"
   ]
  },
  {
   "cell_type": "code",
   "execution_count": 78,
   "id": "3f0306f7-87bb-464d-80a9-0912b67a6590",
   "metadata": {},
   "outputs": [
    {
     "data": {
      "image/png": "[encoded data removed]",
      "text/plain": [
       "<Figure size 640x480 with 1 Axes>"
      ]
     },
     "metadata": {},
     "output_type": "display_data"
    }
   ],
   "source": [
    "plt.bar(PF.index,PF.values,color='y')\n",
    "plt.title('Preferred foot of the players')\n",
    "plt.xlabel('Foot preference')\n",
    "plt.ylabel('No of players')\n",
    "plt.show()"
   ]
  },
  {
   "cell_type": "code",
   "execution_count": null,
   "id": "07bf60eb-7af6-4506-bce4-7b26f8046253",
   "metadata": {},
   "outputs": [],
   "source": []
  }
 ],
 "metadata": {
  "kernelspec": {
   "display_name": "Python 3 (ipykernel)",
   "language": "python",
   "name": "python3"
  },
  "language_info": {
   "codemirror_mode": {
    "name": "ipython",
    "version": 3
   },
   "file_extension": ".py",
   "mimetype": "text/x-python",
   "name": "python",
   "nbconvert_exporter": "python",
   "pygments_lexer": "ipython3",
   "version": "3.11.7"
  }
 },
 "nbformat": 4,
 "nbformat_minor": 5
}
