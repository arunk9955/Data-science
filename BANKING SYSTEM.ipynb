{
 "cells": [
  {
   "cell_type": "code",
   "execution_count": 21,
   "id": "902ffc1a-f868-4fc2-9e3b-4b8f0c521142",
   "metadata": {},
   "outputs": [
    {
     "name": "stdout",
     "output_type": "stream",
     "text": [
      "WELCOME TO STATE BANK OF KERALA\n",
      " Please Login\n"
     ]
    },
    {
     "name": "stdin",
     "output_type": "stream",
     "text": [
      "Enter your account number: 987654321\n",
      "Enter your pin 1234\n"
     ]
    },
    {
     "name": "stdout",
     "output_type": "stream",
     "text": [
      "login successfull\n",
      "Services:\n",
      "1.Deposit\n",
      "2.Withdrawal\n",
      "3.Balace check\n",
      "4.Change pin\n"
     ]
    },
    {
     "name": "stdin",
     "output_type": "stream",
     "text": [
      "Please select a service: 4\n",
      "Enter your new pin: 5678\n"
     ]
    },
    {
     "name": "stdout",
     "output_type": "stream",
     "text": [
      "Your pin has been successfully changed\n"
     ]
    }
   ],
   "source": [
    "class BankSystem:\n",
    "    def __init__(self,acc_no,pin,balance=0):\n",
    "        self.acc_no = acc_no\n",
    "        self.pin = pin\n",
    "        self.balance = balance\n",
    "\n",
    "\n",
    "    def login(self,acc_no,pin):\n",
    "        if acc_no == self.acc_no and pin == self.pin:\n",
    "            print(\"login successfull\")\n",
    "            return True\n",
    "        else:\n",
    "            print(\"invalid account number or pin\")\n",
    "            return False\n",
    "\n",
    "    \n",
    "    def deposit(self,amount):\n",
    "        if amount>0:\n",
    "            self.balance+=amount\n",
    "            print(amount,\"is deposited to your account\\n your current balance is: \",self.balance)\n",
    "        else:\n",
    "            print(\"the minimum deposit amount is Rs1\")\n",
    "\n",
    "\n",
    "    def withdraw(self,amount):\n",
    "        if amount>0 and amount<= self.balance:\n",
    "            self.balance-=amount\n",
    "            print(\"withdrawal of RS:\",amount,\"is successfull\\n your current balance is:\",self.balance)\n",
    "        else:\n",
    "            print(\"invalid withdrawal amount or insufficient balance\")\n",
    "\n",
    "\n",
    "    def balance_check(self):\n",
    "        print(\"your current balance is:\",self.balance)\n",
    "\n",
    "\n",
    "    def change_pin(self, new_pin):\n",
    "        self.pin = new_pin\n",
    "        print(\"Your pin has been successfully changed\")\n",
    "\n",
    "sample=BankSystem(987654321,1234,25000)\n",
    "        \n",
    "\n",
    "\n",
    "print(\"WELCOME TO STATE BANK OF KERALA\")\n",
    "print(\" Please Login\")\n",
    "acc_no = float(input(\"Enter your account number:\"))\n",
    "pin = float(input(\"Enter your pin\"))\n",
    "if sample.login(acc_no,pin):\n",
    "    print(\"Services:\")\n",
    "    print(\"1.Deposit\")\n",
    "    print(\"2.Withdrawal\")\n",
    "    print(\"3.Balace check\")\n",
    "    print(\"4.Change pin\")\n",
    "    service = float(input(\"Please select a service:\"))\n",
    "    if service==1:\n",
    "        amount = float(input(\"enter the amount\"))\n",
    "        sample.deposit(amount)\n",
    "    elif service==2:\n",
    "        amount = float(input(\"Enter the amount:\"))\n",
    "        sample.withdraw(amount)\n",
    "    elif service==3:\n",
    "        sample.balance_check()\n",
    "    elif service==4:\n",
    "        new_pin=float(input(\"Enter your new pin:\"))\n",
    "        sample.change_pin(new_pin)\n",
    "    else:\n",
    "        print(\"invalid choice\\n please select a choice 1/2/3\")\n",
    "        \n",
    "    \n",
    "\n",
    "\n",
    "\n"
   ]
  }
 ],
 "metadata": {
  "kernelspec": {
   "display_name": "Python 3 (ipykernel)",
   "language": "python",
   "name": "python3"
  },
  "language_info": {
   "codemirror_mode": {
    "name": "ipython",
    "version": 3
   },
   "file_extension": ".py",
   "mimetype": "text/x-python",
   "name": "python",
   "nbconvert_exporter": "python",
   "pygments_lexer": "ipython3",
   "version": "3.11.7"
  }
 },
 "nbformat": 4,
 "nbformat_minor": 5
}
